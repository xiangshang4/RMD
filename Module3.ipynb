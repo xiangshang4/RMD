{
 "cells": [
  {
   "cell_type": "code",
   "execution_count": null,
   "metadata": {},
   "outputs": [],
   "source": [
    "import numpy as np\n",
    "import pandas as pd\n",
    "df = pd.read_csv(\"stock_data.csv\",parse_dates=['date'])"
   ]
  },
  {
   "cell_type": "markdown",
   "metadata": {},
   "source": [
    "# Logical Statements\n",
    "\n",
    "Booleans are the backbone of logical statements."
   ]
  },
  {
   "cell_type": "code",
   "execution_count": null,
   "metadata": {},
   "outputs": [],
   "source": [
    "# Using the int function\n",
    "int(3.14)"
   ]
  },
  {
   "cell_type": "code",
   "execution_count": 10,
   "metadata": {},
   "outputs": [],
   "source": [
    "# understanding the bool function - similar to int(object)\n",
    "import numpy as np\n",
    "bool()\n",
    "# unless we pass 0, '', None, [], (), {} - bool function will always return True"
   ]
  },
  {
   "cell_type": "code",
   "execution_count": null,
   "metadata": {},
   "outputs": [],
   "source": [
    "# Generating booleans\n",
    "a = 5\n",
    "b = 7\n",
    "print(a>b)"
   ]
  },
  {
   "cell_type": "code",
   "execution_count": null,
   "metadata": {},
   "outputs": [],
   "source": [
    "# Value of boolean\n",
    "1 == True"
   ]
  },
  {
   "cell_type": "markdown",
   "metadata": {},
   "source": [
    "### If Statement"
   ]
  },
  {
   "cell_type": "code",
   "execution_count": null,
   "metadata": {},
   "outputs": [],
   "source": [
    "# if condition : \n",
    "    # Perform action (this section of code is indented)"
   ]
  },
  {
   "cell_type": "code",
   "execution_count": null,
   "metadata": {},
   "outputs": [],
   "source": [
    "# Using booleans in if statement : Syntax if True : execute; if False : exit\n",
    "if a<b : \n",
    "    print(\"a is less than b\")"
   ]
  },
  {
   "cell_type": "code",
   "execution_count": null,
   "metadata": {},
   "outputs": [],
   "source": [
    "# If any non-zero value is always True\n",
    "if 3 :\n",
    "    print(\"something\")"
   ]
  },
  {
   "cell_type": "code",
   "execution_count": null,
   "metadata": {},
   "outputs": [],
   "source": [
    "# Re-evaluating the NumPy .all function\n",
    "my_array = np.array([1,2,3])\n",
    "print((my_array>0).all()) # .all checks if all the values are True - inspiration for 'and' statement"
   ]
  },
  {
   "cell_type": "code",
   "execution_count": null,
   "metadata": {},
   "outputs": [],
   "source": [
    "# Pandas .all and .any functions\n",
    "df1 = pd.Series([1,2,3])\n",
    "(df1>0)#.any()"
   ]
  },
  {
   "cell_type": "markdown",
   "metadata": {},
   "source": [
    "### And Statement\n",
    "\n",
    "Allows us to compare multiple booleans. \"And\" statement gets executed only if all the conditions are True."
   ]
  },
  {
   "cell_type": "code",
   "execution_count": null,
   "metadata": {},
   "outputs": [],
   "source": [
    "# Combining two true statements by and\n",
    "True and True"
   ]
  },
  {
   "cell_type": "code",
   "execution_count": null,
   "metadata": {},
   "outputs": [],
   "source": [
    "# Combining a true and a false boolean\n",
    "True and False"
   ]
  },
  {
   "cell_type": "code",
   "execution_count": null,
   "metadata": {},
   "outputs": [],
   "source": [
    "# More than 2 conditions\n",
    "a = 1\n",
    "b = 2\n",
    "c = 3\n",
    "if (a==1) and (b==2) and (c==3):\n",
    "    print('success')"
   ]
  },
  {
   "cell_type": "code",
   "execution_count": null,
   "metadata": {},
   "outputs": [],
   "source": [
    "# Again any value other than zero are treated as true by Python\n",
    "if 3 and 4 and 5 : print('success')"
   ]
  },
  {
   "cell_type": "markdown",
   "metadata": {},
   "source": [
    "### Or Statement\n",
    "\n",
    "For the or statement to get executed, at least one of the conditions must be true."
   ]
  },
  {
   "cell_type": "code",
   "execution_count": null,
   "metadata": {},
   "outputs": [],
   "source": [
    "# Combining two true booleans\n",
    "True or True "
   ]
  },
  {
   "cell_type": "code",
   "execution_count": null,
   "metadata": {},
   "outputs": [],
   "source": [
    "# Combining a true and a false boolean\n",
    "True or False"
   ]
  },
  {
   "cell_type": "code",
   "execution_count": null,
   "metadata": {},
   "outputs": [],
   "source": [
    "# More than 2 conditions\n",
    "a = 1\n",
    "b = 2\n",
    "c = 3\n",
    "if (a==1) or (b==1) or (c==1):print('success')"
   ]
  },
  {
   "cell_type": "markdown",
   "metadata": {},
   "source": [
    "### If, Elif, and Else"
   ]
  },
  {
   "cell_type": "code",
   "execution_count": null,
   "metadata": {},
   "outputs": [],
   "source": [
    "# if test1:\n",
    "    # if test1 is true, do this\n",
    "# elif test2:\n",
    "    # if test2 is true, do this\n",
    "# else : \n",
    "    # if none of the above are true, then do this"
   ]
  },
  {
   "cell_type": "code",
   "execution_count": null,
   "metadata": {},
   "outputs": [],
   "source": [
    "# A simple example of if, elif, and else statement\n",
    "a = 10\n",
    "\n",
    "if a<10 : \n",
    "    print('A')\n",
    "elif (a>=10) and (a<100) : \n",
    "    print('B')\n",
    "else :\n",
    "    print('C')"
   ]
  },
  {
   "cell_type": "markdown",
   "metadata": {},
   "source": [
    "# Loops\n",
    "\n",
    "Python has two loop commands - For and While loop. Operations on individual elements can be generalized using a loop in Python."
   ]
  },
  {
   "cell_type": "markdown",
   "metadata": {},
   "source": [
    "### While Loop"
   ]
  },
  {
   "cell_type": "code",
   "execution_count": null,
   "metadata": {},
   "outputs": [],
   "source": [
    "# As long as a condition is true, While loop is executed\n",
    "i=0\n",
    "while i<6:\n",
    "    print(i)\n",
    "    i=i+1 # Can be replaced with i=i+0.5"
   ]
  },
  {
   "cell_type": "code",
   "execution_count": null,
   "metadata": {},
   "outputs": [],
   "source": [
    "# While loops with \"break\"\n",
    "# Break statement essentially stops running the loop if encountered\n",
    "i=0\n",
    "while i<5:\n",
    "    # do something more meaningful\n",
    "    if i==3:\n",
    "        break\n",
    "    print(i)\n",
    "    i=i+1"
   ]
  },
  {
   "cell_type": "code",
   "execution_count": null,
   "metadata": {},
   "outputs": [],
   "source": [
    "# While loops with \"continue\"\n",
    "# Continue statement skips \n",
    "i=0\n",
    "while i<5:\n",
    "    i=i+1 # Does not matter where i=i+1 is present inside the indentation of while loop\n",
    "    if i==3:continue # should be present before our mathematical operation \n",
    "    print(i)\n",
    "    #print(i+i**2+i**3)"
   ]
  },
  {
   "cell_type": "markdown",
   "metadata": {},
   "source": [
    "### For Loop"
   ]
  },
  {
   "cell_type": "code",
   "execution_count": null,
   "metadata": {},
   "outputs": [],
   "source": [
    "# Defining an array and iterating through the array\n",
    "my_array = np.array([1,2,3,4,5])\n",
    "\n",
    "# Example of an opeartion \n",
    "(my_array[2]+my_array[0])**(my_array[3]-my_array[0])"
   ]
  },
  {
   "cell_type": "code",
   "execution_count": null,
   "metadata": {},
   "outputs": [],
   "source": [
    "# Simple syntax of for loop\n",
    "# Similar to if-statement, for loop starts with first indentation and ends at first un-indented line\n",
    "for element in my_array:\n",
    "    print(element)"
   ]
  },
  {
   "cell_type": "code",
   "execution_count": null,
   "metadata": {},
   "outputs": [],
   "source": [
    "# range function - similar to np.arange()\n",
    "range(0,5) # gives us a range object in the range class"
   ]
  },
  {
   "cell_type": "code",
   "execution_count": null,
   "metadata": {},
   "outputs": [],
   "source": [
    "list(range(10,20,2))"
   ]
  },
  {
   "cell_type": "code",
   "execution_count": null,
   "metadata": {},
   "outputs": [],
   "source": [
    "np.arange(10,20,2)"
   ]
  },
  {
   "cell_type": "code",
   "execution_count": null,
   "metadata": {},
   "outputs": [],
   "source": [
    "# For loop with range\n",
    "for i in range(0,len(my_array)):\n",
    "    print(my_array[i])"
   ]
  },
  {
   "cell_type": "markdown",
   "metadata": {},
   "source": [
    "### List Comprehension\n",
    "\n",
    "Instead of entering data/objects inside [.] for generating lists, in list comprehensions you enter for loops and if statements within [.] to evaluate your expression. "
   ]
  },
  {
   "cell_type": "code",
   "execution_count": null,
   "metadata": {},
   "outputs": [],
   "source": [
    "# Printing the list we will work on\n",
    "list(range(10))"
   ]
  },
  {
   "cell_type": "code",
   "execution_count": null,
   "metadata": {},
   "outputs": [],
   "source": [
    "# Creating a new list with squares of first 5 integers\n",
    "my_list1 = [] # Initiating an empty list\n",
    "for i in range(10):\n",
    "    my_list1.append(i**2) # Appending the square of the integer\n",
    "my_list1"
   ]
  },
  {
   "cell_type": "code",
   "execution_count": null,
   "metadata": {},
   "outputs": [],
   "source": [
    "# An alternate concise way to create lists without calling a for loop and storing output\n",
    "# Syntax is [expression for items in collection if <test condition>]\n",
    "my_list2 = [x**2 for x in range(10)] # saves us creating a blank list, indendations and appending\n",
    "my_list2"
   ]
  },
  {
   "cell_type": "code",
   "execution_count": null,
   "metadata": {},
   "outputs": [],
   "source": [
    "# Adding an if statement (calculating squares of even numbers only)\n",
    "my_list3 = [x**2 for x in range(10) if x%2==0] \n",
    "my_list3"
   ]
  },
  {
   "cell_type": "markdown",
   "metadata": {},
   "source": [
    "# Functions\n",
    "\n",
    "Calculations and logical operations that need to be used repeatedly can be done so using a function."
   ]
  },
  {
   "cell_type": "code",
   "execution_count": null,
   "metadata": {},
   "outputs": [],
   "source": [
    "# Syntax for defining a function\n",
    "# def function (#arguments) : return\n",
    "# Similar to loops, code is grouped inside a function through indentation\n",
    "def my_function():\n",
    "    pass "
   ]
  },
  {
   "cell_type": "code",
   "execution_count": null,
   "metadata": {},
   "outputs": [],
   "source": [
    "# Functions are also objects in python\n",
    "print(type(my_function))\n",
    "print(id(my_function))\n",
    "# Functions in python are first class objects!\n",
    "# First class basically means that the function has - type, passed into other functions (as arguments), etc."
   ]
  },
  {
   "cell_type": "code",
   "execution_count": null,
   "metadata": {},
   "outputs": [],
   "source": [
    "# Checking the output of the function created above\n",
    "my_function\n",
    "#my_function()"
   ]
  },
  {
   "cell_type": "code",
   "execution_count": null,
   "metadata": {},
   "outputs": [],
   "source": [
    "# Creating a function that does something\n",
    "from math import pi\n",
    "def area(x):\n",
    "    \"\"\"\" Function returns the area of the circle \"\"\"\n",
    "    return 0.5*pi*x**2"
   ]
  },
  {
   "cell_type": "code",
   "execution_count": null,
   "metadata": {},
   "outputs": [],
   "source": [
    "# Reading the docstring of the function\n",
    "area?\n",
    "# area(5)\n",
    "# area(-5) # not good programming practice"
   ]
  },
  {
   "cell_type": "code",
   "execution_count": null,
   "metadata": {},
   "outputs": [],
   "source": [
    "# Error when we don't pass a required variable \"x\"\n",
    "area() "
   ]
  },
  {
   "cell_type": "code",
   "execution_count": null,
   "metadata": {},
   "outputs": [],
   "source": [
    "# Using the function in a list comprehension\n",
    "[area(r) for r in range(10)]"
   ]
  },
  {
   "cell_type": "code",
   "execution_count": null,
   "metadata": {},
   "outputs": [],
   "source": [
    "# Passing a numpy array inside the function\n",
    "area(np.array([1,2,3]))"
   ]
  },
  {
   "cell_type": "code",
   "execution_count": null,
   "metadata": {},
   "outputs": [],
   "source": [
    "# Modifying the area function\n",
    "def area(x=10):\n",
    "    \"\"\"\" Function returns the area of the circle \"\"\"\n",
    "    return 0.5*pi*x**2"
   ]
  },
  {
   "cell_type": "code",
   "execution_count": null,
   "metadata": {},
   "outputs": [],
   "source": [
    "# Running function without specifying the key-word argument \"x\"\n",
    "area() "
   ]
  },
  {
   "cell_type": "code",
   "execution_count": null,
   "metadata": {},
   "outputs": [],
   "source": [
    "# Creating a function with required and key-word arguments\n",
    "def mfe_co_2022(input1,input2=5): # first required arguments and then key word arguments\n",
    "    \"\"\"This function returns the product of two numbers\"\"\"\n",
    "    return input1*input2"
   ]
  },
  {
   "cell_type": "code",
   "execution_count": null,
   "metadata": {},
   "outputs": [],
   "source": [
    "# Calling the function\n",
    "mfe_co_2022(10.5,10)"
   ]
  },
  {
   "cell_type": "code",
   "execution_count": null,
   "metadata": {},
   "outputs": [],
   "source": [
    "type(mfe_co_2022)"
   ]
  },
  {
   "cell_type": "code",
   "execution_count": null,
   "metadata": {},
   "outputs": [],
   "source": [
    "# Dealing with errors we know can occur by raise  \n",
    "def function(n):\n",
    "    if n%1 != 0 : raise TypeError(\"Enter an integer!!\")\n",
    "    else : print(n)\n",
    "    #if n<0 : raise ValueError(\"Your programming not so good\")\n",
    "    #else : print(np.sqrt(n))\n",
    "\n",
    "function(-1)"
   ]
  },
  {
   "cell_type": "markdown",
   "metadata": {},
   "source": [
    "### Lambda - Anonymous Functions\n",
    "\n",
    "The lambda function can take many inputs, but can only have one output."
   ]
  },
  {
   "cell_type": "code",
   "execution_count": null,
   "metadata": {},
   "outputs": [],
   "source": [
    "# Syntax for the lambda function\n",
    "# lambda inputs : output\n",
    "lambda x : print(x) # A single line function only"
   ]
  },
  {
   "cell_type": "code",
   "execution_count": null,
   "metadata": {},
   "outputs": [],
   "source": [
    "# Defining a function that squares a number\n",
    "def square(x) : return x**2\n",
    "square(3)"
   ]
  },
  {
   "cell_type": "code",
   "execution_count": null,
   "metadata": {},
   "outputs": [],
   "source": [
    "# Creating a lambda function\n",
    "# We are assigning the lambda function to x; So x is a function with no name\n",
    "lambda i : i**2\n",
    "#x = lambda i : i**2\n",
    "#x(3)"
   ]
  },
  {
   "cell_type": "code",
   "execution_count": null,
   "metadata": {},
   "outputs": [],
   "source": [
    "# Passing a numpy array through the lambda function\n",
    "my_array = np.linspace(0,5,6)\n",
    "my_array\n",
    "fun = lambda x : np.exp(x)\n",
    "fun(my_array)"
   ]
  },
  {
   "cell_type": "markdown",
   "metadata": {},
   "source": [
    "### Pandas Apply\n",
    "\n",
    "The apply function can be used on a pandas series and on a pandas dataframe. Usually, groupby, apply, and the lambda functions go together."
   ]
  },
  {
   "cell_type": "code",
   "execution_count": null,
   "metadata": {},
   "outputs": [],
   "source": [
    "# Creating a random dataframe\n",
    "df = pd.DataFrame(np.linspace(0,10,100).reshape(20,5),columns=[\"A B C D E\".split()])\n",
    "df.head()"
   ]
  },
  {
   "cell_type": "code",
   "execution_count": null,
   "metadata": {},
   "outputs": [],
   "source": [
    "# Apply function on a pandas data series\n",
    "df[['A']].apply(np.exp) # calculating the exponential at each value of series A"
   ]
  },
  {
   "cell_type": "code",
   "execution_count": null,
   "metadata": {},
   "outputs": [],
   "source": [
    "# Apply function on a pandas data frame\n",
    "df[['A','B','C']].apply(np.max,axis=1).head() # axis=0 is along the column, axis=1 is along each row"
   ]
  },
  {
   "cell_type": "code",
   "execution_count": null,
   "metadata": {},
   "outputs": [],
   "source": [
    "# Reloading the dataset analyzed above (shortcut to parse the dates while reading the data)\n",
    "df = pd.read_csv(\"stock_data.csv\",sep = ',',parse_dates=['date'])\n",
    "\n",
    "# Converting any letters into NaN\n",
    "df['price'] = pd.to_numeric(df['price'],errors='coerce')\n",
    "df['total_returns'] = pd.to_numeric(df['total_returns'],errors='coerce')\n",
    "\n",
    "df.head(10)"
   ]
  },
  {
   "cell_type": "code",
   "execution_count": null,
   "metadata": {},
   "outputs": [],
   "source": [
    "# What if you want to apply a convoluted function say max-min\n",
    "df[['A','B','C']].apply(np.max-np.min,axis=0)\n",
    "\n",
    "# This is where lambda functions come handy inside the apply function\n",
    "#df[['A','B','C']].apply(lambda x : x.max()-x.min(),axis=1)"
   ]
  },
  {
   "cell_type": "code",
   "execution_count": null,
   "metadata": {},
   "outputs": [],
   "source": [
    "# Defining a function that we want to apply on the dataframe\n",
    "df.groupby('permno')[['price']].apply(lambda x : x.max()/x.min())"
   ]
  },
  {
   "cell_type": "code",
   "execution_count": null,
   "metadata": {},
   "outputs": [],
   "source": [
    "# Creating a custom function \n",
    "def modify_return(x):\n",
    "    return (x.mean()-x.median())/x.std()"
   ]
  },
  {
   "cell_type": "code",
   "execution_count": null,
   "metadata": {},
   "outputs": [],
   "source": [
    "df.groupby('permno')[['total_returns']].apply(lambda x : modify_return(x))"
   ]
  },
  {
   "cell_type": "code",
   "execution_count": null,
   "metadata": {},
   "outputs": [],
   "source": [
    "# Apply function along the rows\n",
    "#df[['price','share_outstanding']].apply(lambda x : x['price']*x['share_outstanding'],axis=1)"
   ]
  },
  {
   "cell_type": "markdown",
   "metadata": {},
   "source": [
    "# Plotting"
   ]
  },
  {
   "cell_type": "code",
   "execution_count": null,
   "metadata": {},
   "outputs": [],
   "source": [
    "import matplotlib.pyplot as plt"
   ]
  },
  {
   "cell_type": "code",
   "execution_count": null,
   "metadata": {},
   "outputs": [],
   "source": [
    "# Defining our two arrays \n",
    "x = np.linspace(-10,10,21)\n",
    "y = x**2"
   ]
  },
  {
   "cell_type": "code",
   "execution_count": null,
   "metadata": {},
   "outputs": [],
   "source": [
    "plt.plot(x,y)\n",
    "# The x-axis is the default y-index\n",
    "# First line above the plot (image location)\n",
    "# Include x in the second part of plot\n",
    "# Include label and legend\n",
    "# Include plt.show to remove the first line \n",
    "# Change line color\n",
    "# Add a Z variable\n",
    "# Change line width\n",
    "# Change line transparency using alpha\n",
    "# Change line type by adding '--'\n",
    "# Add title\n",
    "# Add x-label\n",
    "# Add x-ticks\n",
    "# Save figure"
   ]
  },
  {
   "cell_type": "code",
   "execution_count": null,
   "metadata": {},
   "outputs": [],
   "source": [
    "# We can also plot directly from pandas\n",
    "df[df['permno']<=10029].groupby(['date','permno'])['total_returns'].mean().unstack().cumsum().plot()"
   ]
  },
  {
   "cell_type": "markdown",
   "metadata": {},
   "source": [
    "### Subplots"
   ]
  },
  {
   "cell_type": "code",
   "execution_count": null,
   "metadata": {},
   "outputs": [],
   "source": [
    "fig,ax = plt.subplots(2,2)\n",
    "\n",
    "# Randomly defining 4 y-variables for subplots\n",
    "x = np.linspace(-10,10,21)\n",
    "y1 = np.exp(x)\n",
    "y2 = np.sin(x)\n",
    "y3 = np.power(x,3)\n",
    "y4 = 10*x**2\n",
    "\n",
    "# First subplot\n",
    "ax[0,0].plot(x,y1)\n",
    "\n",
    "# Second subplot\n",
    "ax[0,1].plot(x,y2)\n",
    "\n",
    "# Third subplot\n",
    "ax[1,0].plot(x,y3)\n",
    "\n",
    "# Fourth subplot\n",
    "ax[1,1].plot(x,y4)\n",
    "\n",
    "plt.show()"
   ]
  },
  {
   "cell_type": "markdown",
   "metadata": {},
   "source": [
    "# Good Programming Practices\n",
    "\n",
    "- Thinking through the problem before writing code is the secret. Once you have sufficiently thought through the problem, the code writes itself!\n",
    "- Understanding that every program operates along multiple complexities - Time and Space complexities are the most common\n",
    "- Making your code readable. Readable code that gives wrong output is better than an un-readable code that gives the right output.\n",
    "- Setting your seed when you simulate random variables (very important for generating reproducible results).\n",
    "- When coding up functions, make sure you give it a doc string and specify the input variable type. If there is a way for your code to break, something will eventually cause it to break.\n",
    "- Commenting your code and adding doc-strings to your functions is very important when you want to revisit your code to understand what it does. It's easier to read through the comments than through code.\n",
    "- Creating versions of your code (you might be interested in a Git repository). \n",
    "- Avoiding loops as much as you can and running efficient loops by vectorizing. \n",
    "- Although you feel smart when you nest multiple operations/functions on an object, long-run it is better to write one/two commands per line of code.\n",
    "\n",
    "# Advanced Python Topics\n",
    "\n",
    "- Git repository and Github\n",
    "- Pandas - Multi index, pivot, melt, stack/unstack, pickle, concat \n",
    "- Numpy - LinAlg library, random variable distributions\n",
    "- Matplotlib - 3D plots, interactive plots\n",
    "- Multiprocessing (parallel computing)\n",
    "- SQLite3 with Python\n",
    "- Memoization\n",
    "- Inheritance, Sub-classes, and meta-classes\n",
    "- Map, Reduce, and Filter\n",
    "- Tensors\n",
    "- NumBa (easily handles extremely large data sets)\n",
    "- Logging and RaiseError for Exception Handling"
   ]
  },
  {
   "cell_type": "markdown",
   "metadata": {},
   "source": [
    "# Take Home Questions\n",
    "\n",
    "- **List Comprehension**: First generate a list using the range(20) function. Next, create a second list that calculates $0.5 \\cdot n \\cdot (n+1)$ for each item $n$ in the first list. Solve this using a while loop and also the list comprehension method. Check if the outputs match for the two methods."
   ]
  },
  {
   "cell_type": "code",
   "execution_count": 3,
   "metadata": {},
   "outputs": [
    {
     "data": {
      "text/plain": [
       "[0.0,\n",
       " 1.0,\n",
       " 3.0,\n",
       " 6.0,\n",
       " 10.0,\n",
       " 15.0,\n",
       " 21.0,\n",
       " 28.0,\n",
       " 36.0,\n",
       " 45.0,\n",
       " 55.0,\n",
       " 66.0,\n",
       " 78.0,\n",
       " 91.0,\n",
       " 105.0,\n",
       " 120.0,\n",
       " 136.0,\n",
       " 153.0,\n",
       " 171.0,\n",
       " 190.0]"
      ]
     },
     "execution_count": 3,
     "metadata": {},
     "output_type": "execute_result"
    }
   ],
   "source": [
    "x=[i for i in range(20)]\n",
    "[0.5*n*(n+1) for n in x]"
   ]
  },
  {
   "cell_type": "markdown",
   "metadata": {},
   "source": [
    "\n",
    "- **Lambda function**: Create a numpy array of integers from 1 to 50. Use the lambda function to compute $x^3+x^2+x+1$ for each element $x$ of the array. Compare your output using the list comprehension method."
   ]
  },
  {
   "cell_type": "code",
   "execution_count": 7,
   "metadata": {},
   "outputs": [
    {
     "data": {
      "text/plain": [
       "array([     4,     15,     40,     85,    156,    259,    400,    585,\n",
       "          820,   1111,   1464,   1885,   2380,   2955,   3616,   4369,\n",
       "         5220,   6175,   7240,   8421,   9724,  11155,  12720,  14425,\n",
       "        16276,  18279,  20440,  22765,  25260,  27931,  30784,  33825,\n",
       "        37060,  40495,  44136,  47989,  52060,  56355,  60880,  65641,\n",
       "        70644,  75895,  81400,  87165,  93196,  99499, 106080, 112945,\n",
       "       120100, 127551])"
      ]
     },
     "execution_count": 7,
     "metadata": {},
     "output_type": "execute_result"
    }
   ],
   "source": [
    "import numpy as np\n",
    "np.array([i for i in range(1,51)])\n",
    "fun=lambda x : x*x*x+x*x+x+1\n",
    "fun(np.array([i for i in range(1,51)]))"
   ]
  },
  {
   "cell_type": "markdown",
   "metadata": {},
   "source": [
    "- **For Loop**: Create a list with range(50). Return $x^3+x^2+x+1$ for every element $x$ in the list with an exception that for the last 5 elements return $x^4+x^3+x^2+x+1$. Use a for loop to do this operation. *Hint*: You might want to read up on \"enumerate\" and how that can be used with a for loop."
   ]
  },
  {
   "cell_type": "code",
   "execution_count": 9,
   "metadata": {},
   "outputs": [
    {
     "name": "stdout",
     "output_type": "stream",
     "text": [
      "1\n",
      "4\n",
      "15\n",
      "40\n",
      "85\n",
      "156\n",
      "259\n",
      "400\n",
      "585\n",
      "820\n",
      "1111\n",
      "1464\n",
      "1885\n",
      "2380\n",
      "2955\n",
      "3616\n",
      "4369\n",
      "5220\n",
      "6175\n",
      "7240\n",
      "8421\n",
      "9724\n",
      "11155\n",
      "12720\n",
      "14425\n",
      "16276\n",
      "18279\n",
      "20440\n",
      "22765\n",
      "25260\n",
      "27931\n",
      "30784\n",
      "33825\n",
      "37060\n",
      "40495\n",
      "44136\n",
      "47989\n",
      "52060\n",
      "56355\n",
      "60880\n",
      "65641\n",
      "70644\n",
      "75895\n",
      "81400\n",
      "87165\n",
      "4193821\n",
      "4576955\n",
      "4985761\n",
      "5421361\n",
      "5884901\n"
     ]
    }
   ],
   "source": [
    "for index, x in enumerate([i for i in range(50)]):\n",
    "    if index>=45:\n",
    "        print(x*x*x*x+x*x*x+x*x+x+1)\n",
    "    else:\n",
    "        print(x*x*x+x*x+x+1)"
   ]
  },
  {
   "cell_type": "markdown",
   "metadata": {},
   "source": [
    "- **List comprehension with logical statements**: First generate a list using the range(30) function. Next, create a second list that creates elements based on the logic below. *Hint*: You can do this by including an if statement inside your list comprehension.\n",
    "\n",
    "$$\n",
    "f(x)=\\begin{cases}\n",
    "x^2    , & \\text{if x is even}\\\\\n",
    "x^3 , & \\text{if x is odd}\n",
    "\\end{cases}\n",
    "$$"
   ]
  },
  {
   "cell_type": "code",
   "execution_count": 15,
   "metadata": {},
   "outputs": [
    {
     "data": {
      "text/plain": [
       "[0,\n",
       " 1,\n",
       " 4,\n",
       " 27,\n",
       " 16,\n",
       " 125,\n",
       " 36,\n",
       " 343,\n",
       " 64,\n",
       " 729,\n",
       " 100,\n",
       " 1331,\n",
       " 144,\n",
       " 2197,\n",
       " 196,\n",
       " 3375,\n",
       " 256,\n",
       " 4913,\n",
       " 324,\n",
       " 6859,\n",
       " 400,\n",
       " 9261,\n",
       " 484,\n",
       " 12167,\n",
       " 576,\n",
       " 15625,\n",
       " 676,\n",
       " 19683,\n",
       " 784,\n",
       " 24389]"
      ]
     },
     "execution_count": 15,
     "metadata": {},
     "output_type": "execute_result"
    }
   ],
   "source": [
    "x=[i for i in range(30)]\n",
    "y=[i*i if i%2==0 else i*i*i for i in x]\n",
    "y"
   ]
  },
  {
   "cell_type": "markdown",
   "metadata": {},
   "source": [
    "\n",
    "- **Fibonacci sequence**: Construct a function \"fibonacci\" that takes in the required variable integer \"$n$\" and returns the $n_{th}$ term in a Fibonacci sequence (1,1,2,3,5,...). For example, if your call your function and pass in the argument n = 6, i.e fibonacci(n=6) it should return the value 8. You can use a for or a while loop inside your function. Print the function output for n=30, 50, and 100. "
   ]
  },
  {
   "cell_type": "code",
   "execution_count": 17,
   "metadata": {},
   "outputs": [
    {
     "name": "stdout",
     "output_type": "stream",
     "text": [
      "8\n",
      "832040\n",
      "12586269025\n",
      "354224848179261915075\n"
     ]
    }
   ],
   "source": [
    "def f(n):\n",
    "    a,b=0,1\n",
    "    while n>1:\n",
    "        a,b=b,a+b\n",
    "        n-=1\n",
    "    return b\n",
    "print(f(6))\n",
    "print(f(30))\n",
    "print(f(50))\n",
    "print(f(100))"
   ]
  },
  {
   "cell_type": "markdown",
   "metadata": {},
   "source": [
    "- **Net Present Value**: Code up a function that computes the net present value of a stream of cash-flows and call this function NPV. The function will take three inputs - cash-flows, dates, and interest rate (constant). We will use the formula specified below to compute the NPV of a stream of cash-flows on specific dates. The time periods $t_1,t_2,..,t_N$ are computed as differences from first date. Make sure you annualize the difference in days (convert them to years). Check out this wikipedia link if you want to read up some more (https://en.wikipedia.org/wiki/Net_present_value). \n",
    "\n",
    "$$NPV(CF) = CF_0 + \\frac{CF_1}{(1+r)^{t_1}} + \\frac{CF_2}{(1+r)^{t_2}} + ... \\frac{CF_N}{(1+r)^{t_N}}$$\n",
    "\n",
    "Run this function for the following input \n",
    "\n",
    "$$\\text{Compute : } \\text{NPV}(\\text{CF} = \\text{[-100,50,40,30]},\\text{date} = [\\text{01-Jan-2020,31-Mar-2021,30-Jun-2021,31-Dec-2024}],r=0.05)$$"
   ]
  },
  {
   "cell_type": "code",
   "execution_count": 23,
   "metadata": {},
   "outputs": [
    {
     "name": "stdout",
     "output_type": "stream",
     "text": [
      "50 1.062708263812578\n"
     ]
    },
    {
     "data": {
      "text/plain": [
       "11.848108716434613"
      ]
     },
     "execution_count": 23,
     "metadata": {},
     "output_type": "execute_result"
    }
   ],
   "source": [
    "from datetime import datetime\n",
    "\n",
    "def npv(cd,date,r):\n",
    "    time1=datetime.strptime(date[0],'%d-%b-%Y')\n",
    "    time2=datetime.strptime(date[1],'%d-%b-%Y')\n",
    "    time3=datetime.strptime(date[2],'%d-%b-%Y')\n",
    "    time4=datetime.strptime(date[3],'%d-%b-%Y')\n",
    "    t1=(time2-time1).days/365\n",
    "    t2=(time3-time2).days/365\n",
    "    t3=(time4-time3).days/365\n",
    "    return cd[0]+cd[1]/((1+r)**t1)+cd[2]/((1+r)**t2)+cd[3]/((1+r)**t3)\n",
    "\n",
    "\n",
    "npv([-100,50,40,30],['01-Jan-2020','31-Mar-2021','30-Jun-2021','31-Dec-2024'],0.05) \n"
   ]
  },
  {
   "cell_type": "markdown",
   "metadata": {},
   "source": [
    "- **Pandas .rolling()** is a very useful function to know (check out the doc string of pandas.Series.rolling for a better understanding of what the function does). In this problem, we will calculate the 1-year rolling sum of returns for the data in *stock_data.csv* file. Clean the data (remove strings and drop NaN values). Use the pandas rolling function (window=12) to calculate the sum of 1-year returns. Add this column to the original dataframe. "
   ]
  },
  {
   "cell_type": "code",
   "execution_count": 42,
   "metadata": {},
   "outputs": [
    {
     "data": {
      "text/html": [
       "<div>\n",
       "<style scoped>\n",
       "    .dataframe tbody tr th:only-of-type {\n",
       "        vertical-align: middle;\n",
       "    }\n",
       "\n",
       "    .dataframe tbody tr th {\n",
       "        vertical-align: top;\n",
       "    }\n",
       "\n",
       "    .dataframe thead th {\n",
       "        text-align: right;\n",
       "    }\n",
       "</style>\n",
       "<table border=\"1\" class=\"dataframe\">\n",
       "  <thead>\n",
       "    <tr style=\"text-align: right;\">\n",
       "      <th></th>\n",
       "      <th>permno</th>\n",
       "      <th>level_1</th>\n",
       "      <th>total_returns</th>\n",
       "    </tr>\n",
       "  </thead>\n",
       "  <tbody>\n",
       "    <tr>\n",
       "      <th>0</th>\n",
       "      <td>10001</td>\n",
       "      <td>0</td>\n",
       "      <td>NaN</td>\n",
       "    </tr>\n",
       "    <tr>\n",
       "      <th>1</th>\n",
       "      <td>10001</td>\n",
       "      <td>1</td>\n",
       "      <td>NaN</td>\n",
       "    </tr>\n",
       "    <tr>\n",
       "      <th>2</th>\n",
       "      <td>10001</td>\n",
       "      <td>2</td>\n",
       "      <td>NaN</td>\n",
       "    </tr>\n",
       "    <tr>\n",
       "      <th>3</th>\n",
       "      <td>10001</td>\n",
       "      <td>3</td>\n",
       "      <td>NaN</td>\n",
       "    </tr>\n",
       "    <tr>\n",
       "      <th>4</th>\n",
       "      <td>10001</td>\n",
       "      <td>4</td>\n",
       "      <td>NaN</td>\n",
       "    </tr>\n",
       "    <tr>\n",
       "      <th>5</th>\n",
       "      <td>10001</td>\n",
       "      <td>5</td>\n",
       "      <td>NaN</td>\n",
       "    </tr>\n",
       "    <tr>\n",
       "      <th>6</th>\n",
       "      <td>10001</td>\n",
       "      <td>6</td>\n",
       "      <td>NaN</td>\n",
       "    </tr>\n",
       "    <tr>\n",
       "      <th>7</th>\n",
       "      <td>10001</td>\n",
       "      <td>7</td>\n",
       "      <td>NaN</td>\n",
       "    </tr>\n",
       "    <tr>\n",
       "      <th>8</th>\n",
       "      <td>10001</td>\n",
       "      <td>8</td>\n",
       "      <td>NaN</td>\n",
       "    </tr>\n",
       "    <tr>\n",
       "      <th>9</th>\n",
       "      <td>10001</td>\n",
       "      <td>9</td>\n",
       "      <td>NaN</td>\n",
       "    </tr>\n",
       "    <tr>\n",
       "      <th>10</th>\n",
       "      <td>10001</td>\n",
       "      <td>10</td>\n",
       "      <td>NaN</td>\n",
       "    </tr>\n",
       "    <tr>\n",
       "      <th>11</th>\n",
       "      <td>10001</td>\n",
       "      <td>11</td>\n",
       "      <td>0.212478</td>\n",
       "    </tr>\n",
       "    <tr>\n",
       "      <th>12</th>\n",
       "      <td>10001</td>\n",
       "      <td>12</td>\n",
       "      <td>0.102148</td>\n",
       "    </tr>\n",
       "    <tr>\n",
       "      <th>13</th>\n",
       "      <td>10001</td>\n",
       "      <td>13</td>\n",
       "      <td>0.150072</td>\n",
       "    </tr>\n",
       "    <tr>\n",
       "      <th>14</th>\n",
       "      <td>10001</td>\n",
       "      <td>14</td>\n",
       "      <td>0.173455</td>\n",
       "    </tr>\n",
       "    <tr>\n",
       "      <th>15</th>\n",
       "      <td>10001</td>\n",
       "      <td>15</td>\n",
       "      <td>0.225216</td>\n",
       "    </tr>\n",
       "    <tr>\n",
       "      <th>16</th>\n",
       "      <td>10001</td>\n",
       "      <td>16</td>\n",
       "      <td>0.062042</td>\n",
       "    </tr>\n",
       "    <tr>\n",
       "      <th>17</th>\n",
       "      <td>10001</td>\n",
       "      <td>17</td>\n",
       "      <td>0.085263</td>\n",
       "    </tr>\n",
       "    <tr>\n",
       "      <th>18</th>\n",
       "      <td>10001</td>\n",
       "      <td>18</td>\n",
       "      <td>0.136945</td>\n",
       "    </tr>\n",
       "    <tr>\n",
       "      <th>19</th>\n",
       "      <td>10001</td>\n",
       "      <td>19</td>\n",
       "      <td>0.025473</td>\n",
       "    </tr>\n",
       "    <tr>\n",
       "      <th>20</th>\n",
       "      <td>10001</td>\n",
       "      <td>20</td>\n",
       "      <td>0.122872</td>\n",
       "    </tr>\n",
       "    <tr>\n",
       "      <th>21</th>\n",
       "      <td>10001</td>\n",
       "      <td>21</td>\n",
       "      <td>0.051321</td>\n",
       "    </tr>\n",
       "    <tr>\n",
       "      <th>22</th>\n",
       "      <td>10001</td>\n",
       "      <td>22</td>\n",
       "      <td>0.023511</td>\n",
       "    </tr>\n",
       "    <tr>\n",
       "      <th>23</th>\n",
       "      <td>10001</td>\n",
       "      <td>23</td>\n",
       "      <td>0.136947</td>\n",
       "    </tr>\n",
       "    <tr>\n",
       "      <th>24</th>\n",
       "      <td>10001</td>\n",
       "      <td>24</td>\n",
       "      <td>0.136491</td>\n",
       "    </tr>\n",
       "    <tr>\n",
       "      <th>25</th>\n",
       "      <td>10001</td>\n",
       "      <td>25</td>\n",
       "      <td>0.087797</td>\n",
       "    </tr>\n",
       "    <tr>\n",
       "      <th>26</th>\n",
       "      <td>10001</td>\n",
       "      <td>26</td>\n",
       "      <td>0.070075</td>\n",
       "    </tr>\n",
       "    <tr>\n",
       "      <th>27</th>\n",
       "      <td>10001</td>\n",
       "      <td>27</td>\n",
       "      <td>0.046431</td>\n",
       "    </tr>\n",
       "    <tr>\n",
       "      <th>28</th>\n",
       "      <td>10001</td>\n",
       "      <td>28</td>\n",
       "      <td>0.070220</td>\n",
       "    </tr>\n",
       "    <tr>\n",
       "      <th>29</th>\n",
       "      <td>10001</td>\n",
       "      <td>29</td>\n",
       "      <td>-0.042191</td>\n",
       "    </tr>\n",
       "    <tr>\n",
       "      <th>...</th>\n",
       "      <td>...</td>\n",
       "      <td>...</td>\n",
       "      <td>...</td>\n",
       "    </tr>\n",
       "    <tr>\n",
       "      <th>2930</th>\n",
       "      <td>10137</td>\n",
       "      <td>2930</td>\n",
       "      <td>-0.284544</td>\n",
       "    </tr>\n",
       "    <tr>\n",
       "      <th>2931</th>\n",
       "      <td>10137</td>\n",
       "      <td>2931</td>\n",
       "      <td>-0.625317</td>\n",
       "    </tr>\n",
       "    <tr>\n",
       "      <th>2932</th>\n",
       "      <td>10137</td>\n",
       "      <td>2932</td>\n",
       "      <td>-0.460119</td>\n",
       "    </tr>\n",
       "    <tr>\n",
       "      <th>2933</th>\n",
       "      <td>10137</td>\n",
       "      <td>2933</td>\n",
       "      <td>-0.542374</td>\n",
       "    </tr>\n",
       "    <tr>\n",
       "      <th>2934</th>\n",
       "      <td>10137</td>\n",
       "      <td>2934</td>\n",
       "      <td>-0.421713</td>\n",
       "    </tr>\n",
       "    <tr>\n",
       "      <th>2935</th>\n",
       "      <td>10137</td>\n",
       "      <td>2935</td>\n",
       "      <td>-0.635663</td>\n",
       "    </tr>\n",
       "    <tr>\n",
       "      <th>2936</th>\n",
       "      <td>10137</td>\n",
       "      <td>2936</td>\n",
       "      <td>-0.648804</td>\n",
       "    </tr>\n",
       "    <tr>\n",
       "      <th>2937</th>\n",
       "      <td>10137</td>\n",
       "      <td>2937</td>\n",
       "      <td>-0.595463</td>\n",
       "    </tr>\n",
       "    <tr>\n",
       "      <th>2938</th>\n",
       "      <td>10137</td>\n",
       "      <td>2938</td>\n",
       "      <td>-0.648615</td>\n",
       "    </tr>\n",
       "    <tr>\n",
       "      <th>2939</th>\n",
       "      <td>10137</td>\n",
       "      <td>2939</td>\n",
       "      <td>-0.534606</td>\n",
       "    </tr>\n",
       "    <tr>\n",
       "      <th>2940</th>\n",
       "      <td>10137</td>\n",
       "      <td>2940</td>\n",
       "      <td>-0.517635</td>\n",
       "    </tr>\n",
       "    <tr>\n",
       "      <th>2941</th>\n",
       "      <td>10137</td>\n",
       "      <td>2941</td>\n",
       "      <td>-0.406605</td>\n",
       "    </tr>\n",
       "    <tr>\n",
       "      <th>2942</th>\n",
       "      <td>10137</td>\n",
       "      <td>2942</td>\n",
       "      <td>-0.211232</td>\n",
       "    </tr>\n",
       "    <tr>\n",
       "      <th>2943</th>\n",
       "      <td>10137</td>\n",
       "      <td>2943</td>\n",
       "      <td>-0.170711</td>\n",
       "    </tr>\n",
       "    <tr>\n",
       "      <th>2944</th>\n",
       "      <td>10137</td>\n",
       "      <td>2944</td>\n",
       "      <td>-0.376675</td>\n",
       "    </tr>\n",
       "    <tr>\n",
       "      <th>2945</th>\n",
       "      <td>10137</td>\n",
       "      <td>2945</td>\n",
       "      <td>-0.266430</td>\n",
       "    </tr>\n",
       "    <tr>\n",
       "      <th>2946</th>\n",
       "      <td>10137</td>\n",
       "      <td>2946</td>\n",
       "      <td>-0.355870</td>\n",
       "    </tr>\n",
       "    <tr>\n",
       "      <th>2947</th>\n",
       "      <td>10137</td>\n",
       "      <td>2947</td>\n",
       "      <td>0.014085</td>\n",
       "    </tr>\n",
       "    <tr>\n",
       "      <th>2948</th>\n",
       "      <td>10137</td>\n",
       "      <td>2948</td>\n",
       "      <td>0.049696</td>\n",
       "    </tr>\n",
       "    <tr>\n",
       "      <th>2949</th>\n",
       "      <td>10137</td>\n",
       "      <td>2949</td>\n",
       "      <td>-0.122035</td>\n",
       "    </tr>\n",
       "    <tr>\n",
       "      <th>2950</th>\n",
       "      <td>10137</td>\n",
       "      <td>2950</td>\n",
       "      <td>-0.147147</td>\n",
       "    </tr>\n",
       "    <tr>\n",
       "      <th>2951</th>\n",
       "      <td>10137</td>\n",
       "      <td>2951</td>\n",
       "      <td>-0.161063</td>\n",
       "    </tr>\n",
       "    <tr>\n",
       "      <th>2952</th>\n",
       "      <td>10137</td>\n",
       "      <td>2952</td>\n",
       "      <td>-0.041395</td>\n",
       "    </tr>\n",
       "    <tr>\n",
       "      <th>2953</th>\n",
       "      <td>10137</td>\n",
       "      <td>2953</td>\n",
       "      <td>-0.099960</td>\n",
       "    </tr>\n",
       "    <tr>\n",
       "      <th>2954</th>\n",
       "      <td>10137</td>\n",
       "      <td>2954</td>\n",
       "      <td>-0.015792</td>\n",
       "    </tr>\n",
       "    <tr>\n",
       "      <th>2955</th>\n",
       "      <td>10137</td>\n",
       "      <td>2955</td>\n",
       "      <td>0.069891</td>\n",
       "    </tr>\n",
       "    <tr>\n",
       "      <th>2956</th>\n",
       "      <td>10137</td>\n",
       "      <td>2956</td>\n",
       "      <td>NaN</td>\n",
       "    </tr>\n",
       "    <tr>\n",
       "      <th>2957</th>\n",
       "      <td>10137</td>\n",
       "      <td>2957</td>\n",
       "      <td>NaN</td>\n",
       "    </tr>\n",
       "    <tr>\n",
       "      <th>2958</th>\n",
       "      <td>10137</td>\n",
       "      <td>2958</td>\n",
       "      <td>NaN</td>\n",
       "    </tr>\n",
       "    <tr>\n",
       "      <th>2959</th>\n",
       "      <td>10137</td>\n",
       "      <td>2959</td>\n",
       "      <td>NaN</td>\n",
       "    </tr>\n",
       "  </tbody>\n",
       "</table>\n",
       "<p>2960 rows × 3 columns</p>\n",
       "</div>"
      ],
      "text/plain": [
       "      permno  level_1  total_returns\n",
       "0      10001        0            NaN\n",
       "1      10001        1            NaN\n",
       "2      10001        2            NaN\n",
       "3      10001        3            NaN\n",
       "4      10001        4            NaN\n",
       "5      10001        5            NaN\n",
       "6      10001        6            NaN\n",
       "7      10001        7            NaN\n",
       "8      10001        8            NaN\n",
       "9      10001        9            NaN\n",
       "10     10001       10            NaN\n",
       "11     10001       11       0.212478\n",
       "12     10001       12       0.102148\n",
       "13     10001       13       0.150072\n",
       "14     10001       14       0.173455\n",
       "15     10001       15       0.225216\n",
       "16     10001       16       0.062042\n",
       "17     10001       17       0.085263\n",
       "18     10001       18       0.136945\n",
       "19     10001       19       0.025473\n",
       "20     10001       20       0.122872\n",
       "21     10001       21       0.051321\n",
       "22     10001       22       0.023511\n",
       "23     10001       23       0.136947\n",
       "24     10001       24       0.136491\n",
       "25     10001       25       0.087797\n",
       "26     10001       26       0.070075\n",
       "27     10001       27       0.046431\n",
       "28     10001       28       0.070220\n",
       "29     10001       29      -0.042191\n",
       "...      ...      ...            ...\n",
       "2930   10137     2930      -0.284544\n",
       "2931   10137     2931      -0.625317\n",
       "2932   10137     2932      -0.460119\n",
       "2933   10137     2933      -0.542374\n",
       "2934   10137     2934      -0.421713\n",
       "2935   10137     2935      -0.635663\n",
       "2936   10137     2936      -0.648804\n",
       "2937   10137     2937      -0.595463\n",
       "2938   10137     2938      -0.648615\n",
       "2939   10137     2939      -0.534606\n",
       "2940   10137     2940      -0.517635\n",
       "2941   10137     2941      -0.406605\n",
       "2942   10137     2942      -0.211232\n",
       "2943   10137     2943      -0.170711\n",
       "2944   10137     2944      -0.376675\n",
       "2945   10137     2945      -0.266430\n",
       "2946   10137     2946      -0.355870\n",
       "2947   10137     2947       0.014085\n",
       "2948   10137     2948       0.049696\n",
       "2949   10137     2949      -0.122035\n",
       "2950   10137     2950      -0.147147\n",
       "2951   10137     2951      -0.161063\n",
       "2952   10137     2952      -0.041395\n",
       "2953   10137     2953      -0.099960\n",
       "2954   10137     2954      -0.015792\n",
       "2955   10137     2955       0.069891\n",
       "2956   10137     2956            NaN\n",
       "2957   10137     2957            NaN\n",
       "2958   10137     2958            NaN\n",
       "2959   10137     2959            NaN\n",
       "\n",
       "[2960 rows x 3 columns]"
      ]
     },
     "execution_count": 42,
     "metadata": {},
     "output_type": "execute_result"
    }
   ],
   "source": [
    "import pandas as pd\n",
    "df=pd.read_csv(\"stock_data.csv\")\n",
    "df.dropna().reset_index(drop=True,inplace=True)\n",
    "df['total_returns']=pd.to_numeric(df['total_returns'],errors='coerce')\n",
    "df['date']=pd.to_datetime(df['date'])\n",
    "roll=df.groupby(['permno'])['total_returns'].rolling(12).sum().reset_index()\n",
    "df.merge(roll, on )"
   ]
  },
  {
   "cell_type": "markdown",
   "metadata": {},
   "source": [
    "\n",
    "\n",
    "\n",
    "- **Combining Pandas apply and lambda functions**: Load and clean the stock_data.csv file. Compute the market cap by multiplying the price and outstanding shares. You need to segregate PERMNOs into large-cap, mid-cap, and small-cap stocks. First, you have to write a function that takes in a value $x$ (market cap) as an input. For segregating use the following criteria mentioned below. Use the pandas apply along with lambda function, to pass the function pass you have just coded up.\n",
    "\n",
    "$$\n",
    "f(x)=\\begin{cases}\n",
    "\\text{small cap}    , & \\text{if x} < 100000\\\\\n",
    "\\text{mid cap}    , & 100000 \\le \\text{if x} < 1000000\\\\\n",
    "\\text{large cap} , & \\text{if x} \\ge  1000000\n",
    "\\end{cases}\n",
    "$$\n",
    "\n",
    "- **Plot and Subplots**: For the 4 PERMNOs - (10137, 10051, 10057, 10028), calculate the cumulative sum of returns and plot them in a 4-by-4 sub plot. Also, plot all their cumulative sum of returns in one plot. *Hint*: To compute the cumulative sum, you can use the .cumsum() function of pandas. You can also use the .plot() function of pandas dataframe instead of using matplotlib's plt function.\n",
    "\n",
    "- **(optional) Memoization**: A simple way to create a fibonacci sequence without using loops is by coding it as shown in the code chunk below. Carefully understand how this function does the same job as your function that you coded above. "
   ]
  },
  {
   "cell_type": "code",
   "execution_count": null,
   "metadata": {},
   "outputs": [],
   "source": [
    "def fibonacci(n):\n",
    "    \"\"\"Function takes input integer 'n' and returns the n-th sequence of the fibonacci series\"\"\"\n",
    "    if n<=2 : return(1)\n",
    "    else : return fibonacci(n-1)+fibonacci(n-2)"
   ]
  },
  {
   "cell_type": "markdown",
   "metadata": {},
   "source": [
    "First, create a range of values of $n$ from 1 to 50 and loop this function over the possible integer values of $n$. What do you observe? Why does the loop start laboring after n=30? \n",
    "\n",
    "Second, we will start storing our computations of fibonacci function in a dictionary and use the function for computing previously un-computed values of the function. We can do this by using the new function \"fibonacci_new\" coded below - "
   ]
  },
  {
   "cell_type": "code",
   "execution_count": 17,
   "metadata": {},
   "outputs": [],
   "source": [
    "# Task 3 - creating a Fibonacci sequence without using loops (using Memoization)\n",
    "fibonacci_store = {}\n",
    "\n",
    "def fibonacci_new(n):\n",
    "    \"\"\"Function takes input integer 'n' and returns the n-th sequence of the fibonacci series (with memoization)\"\"\"\n",
    "    \n",
    "    # Checking if the value n is in our cache\n",
    "    if n in fibonacci_store : return fibonacci_store[n]\n",
    "    \n",
    "    # If not, then calculate the n-th value\n",
    "    if n <= 2 : return 1\n",
    "    else : \n",
    "        value = fibonacci_new(n-1)+fibonacci_new(n-2)\n",
    "        fibonacci_store[n] = value # Storing the newly computed value of the function in our dictionary\n",
    "        return value"
   ]
  },
  {
   "cell_type": "markdown",
   "metadata": {},
   "source": [
    "Again create a range of values for $n$ from 1 to 50 and loop this new function over the possible integer values of $n$. What do you observe now? Why is this function not struggling unlike the \"fibonacci()\" function? \n",
    "\n",
    "Our actions of creating a dictionary and storing the values is coded up for us in the form of an inbuilt function in Python. This will involve importing the function \"lru_cache\" from the library \"functools\" as shown below. You can test this function below like you have tested the first fibonacci function. What do you observe?"
   ]
  },
  {
   "cell_type": "code",
   "execution_count": null,
   "metadata": {},
   "outputs": [],
   "source": [
    "from functools import lru_cache\n",
    "\n",
    "@lru_cache(maxsize=1000)\n",
    "def fibonacci(n):\n",
    "    \"\"\"Function takes input integer 'n' and returns the n-th sequence of the fibonacci series (no loops & no memoization)\"\"\"\n",
    "    if n <= 2 : return 1\n",
    "    else : return fibonacci(n-1)+fibonacci(n-2)"
   ]
  }
 ],
 "metadata": {
  "kernelspec": {
   "display_name": "Python 3",
   "language": "python",
   "name": "python3"
  },
  "language_info": {
   "codemirror_mode": {
    "name": "ipython",
    "version": 3
   },
   "file_extension": ".py",
   "mimetype": "text/x-python",
   "name": "python",
   "nbconvert_exporter": "python",
   "pygments_lexer": "ipython3",
   "version": "3.6.5"
  }
 },
 "nbformat": 4,
 "nbformat_minor": 2
}
